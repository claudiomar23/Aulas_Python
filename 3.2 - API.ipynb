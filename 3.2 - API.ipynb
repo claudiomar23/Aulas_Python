{
  "nbformat": 4,
  "nbformat_minor": 0,
  "metadata": {
    "colab": {
      "provenance": []
    },
    "kernelspec": {
      "name": "python3",
      "display_name": "Python 3"
    },
    "language_info": {
      "name": "python"
    }
  },
  "cells": [
    {
      "cell_type": "markdown",
      "source": [
        "# 📌 Consulta de Previsão do Tempo usando a API OpenWeather\n",
        "\n",
        "📍 Objetivo\n",
        "\n",
        "Este código faz uma consulta à API OpenWeather para obter informações meteorológicas de uma cidade específica. Ele retorna:\n",
        "\n",
        "🌡️ Temperatura\n",
        "\n",
        "🌥️ Condição climática\n",
        "\n",
        "💧 Umidade do ar\n",
        "\n",
        "💨 Velocidade do vento\n",
        "\n",
        "Vamos entender cada parte do código!"
      ],
      "metadata": {
        "id": "NrhVydDDG9mY"
      }
    },
    {
      "cell_type": "markdown",
      "source": [
        "#📥 1. Importando a Biblioteca Necessária\n",
        "\n",
        "A biblioteca requests é usada para fazer requisições HTTP e obter os dados da API."
      ],
      "metadata": {
        "id": "kG6Q7MxSHJMj"
      }
    },
    {
      "cell_type": "code",
      "source": [
        "import requests  # Biblioteca para fazer requisições HTTP\n"
      ],
      "metadata": {
        "id": "FGhkmdObHO7N"
      },
      "execution_count": 1,
      "outputs": []
    },
    {
      "cell_type": "markdown",
      "source": [
        "# 🌎 2. Definição da Cidade e Chave da API\n",
        "\n",
        "Para acessar os dados da API, precisamos definir a cidade e a chave da API.\n"
      ],
      "metadata": {
        "id": "w3fzl-hGHXlN"
      }
    },
    {
      "cell_type": "code",
      "source": [
        "# Definição da cidade para busca\n",
        "cidade = \"Brasília\"  # Nome da cidade desejada\n",
        "\n",
        "# Chave de autenticação da API (conseguida por meio de um cadastro no site https://openweathermap.org/)\n",
        "api_key = \"a89bcde3d694995d52ff68333d85a3f3\"\n"
      ],
      "metadata": {
        "id": "ocHWGAa4HVzN"
      },
      "execution_count": 2,
      "outputs": []
    },
    {
      "cell_type": "markdown",
      "source": [
        "🔹 Observação: A API exige uma chave de acesso válida. Se a chave expirar ou estiver errada, a requisição não funcionará."
      ],
      "metadata": {
        "id": "6tXIhVU5HroG"
      }
    },
    {
      "cell_type": "markdown",
      "source": [
        "# 🔗 3. Construção da URL da API\n",
        "\n",
        "A URL contém os parâmetros necessários para obter a previsão do tempo."
      ],
      "metadata": {
        "id": "EtLsO7pMHt9U"
      }
    },
    {
      "cell_type": "code",
      "source": [
        "# Criamos a URL para consultar os dados climáticos\n",
        "url = f\"http://api.openweathermap.org/data/2.5/weather?q={cidade}&appid={api_key}&units=metric&lang=pt_br\"\n"
      ],
      "metadata": {
        "id": "ZFkQKFKEHV3O"
      },
      "execution_count": 3,
      "outputs": []
    },
    {
      "cell_type": "markdown",
      "source": [
        "# 📌 Explicação da URL:\n",
        "\n",
        "Parâmetro\n",
        "\n",
        "- q={cidade}\tDefine a cidade que será pesquisada\n",
        "\n",
        "- appid={api_key}\tInsere a chave da API para autenticação\n",
        "\n",
        "- units=metric\tDefine a temperatura em graus Celsius\n",
        "\n",
        "- lang=pt_br\tRetorna as descrições do tempo em português do Brasil\n"
      ],
      "metadata": {
        "id": "e0Y2ZbDUH6uo"
      }
    },
    {
      "cell_type": "markdown",
      "source": [
        "# 🔄 4. Fazendo a Requisição à API\n",
        "\n",
        "Agora, enviamos a requisição para a API e obtemos os dados no formato JSON."
      ],
      "metadata": {
        "id": "OVsyDtiXIr95"
      }
    },
    {
      "cell_type": "code",
      "source": [
        "# Fazendo a requisição HTTP para a API\n",
        "resposta = requests.get(url)  # Envia uma requisição GET para obter os dados\n",
        "\n",
        "# Convertendo a resposta para um dicionário JSON\n",
        "dados = resposta.json()\n"
      ],
      "metadata": {
        "id": "eP5D1NphHV8l"
      },
      "execution_count": 4,
      "outputs": []
    },
    {
      "cell_type": "markdown",
      "source": [
        "🔹 Se a requisição for bem-sucedida, os dados meteorológicos serão armazenados na variável dados.\n",
        "\n"
      ],
      "metadata": {
        "id": "6i1NC8e2I6pF"
      }
    },
    {
      "cell_type": "markdown",
      "source": [
        "# ✅ 5. Verificando se a Requisição foi Bem-Sucedida\n",
        "\n",
        "Antes de extrair os dados, verificamos se a requisição funcionou corretamente."
      ],
      "metadata": {
        "id": "rM4ulPNUI74-"
      }
    },
    {
      "cell_type": "code",
      "source": [
        "# Verificamos se a resposta foi bem-sucedida (código 200)\n",
        "if resposta.status_code == 200:\n",
        "    print(\"✅ Conexão bem-sucedida! Dados recebidos da API.\")\n",
        "else:\n",
        "    print(f\"❌ Erro ao acessar a API! Código: {resposta.status_code}\")\n",
        "    print(\"Resposta da API:\", dados)  # Exibir a resposta completa para depuração\n"
      ],
      "metadata": {
        "colab": {
          "base_uri": "https://localhost:8080/"
        },
        "id": "0QuqKKlgI6Dd",
        "outputId": "0e1c60bb-e75e-4082-aeb3-047fcf988461"
      },
      "execution_count": 5,
      "outputs": [
        {
          "output_type": "stream",
          "name": "stdout",
          "text": [
            "✅ Conexão bem-sucedida! Dados recebidos da API.\n"
          ]
        }
      ]
    },
    {
      "cell_type": "markdown",
      "source": [
        "# 📌 Código de Status HTTP\n",
        "Código\n",
        "\n",
        "200\t✅ Sucesso, a API retornou os dados corretamente\n",
        "\n",
        "401\t🔒 Erro de autenticação (chave da API inválida)\n",
        "\n",
        "404\t❌ Cidade não encontrada\n",
        "\n",
        "500\t⚠️ Erro interno da API"
      ],
      "metadata": {
        "id": "2RN8JP5CJIDM"
      }
    },
    {
      "cell_type": "markdown",
      "source": [
        "# 🔍 6. Exibindo os Dados de Forma Organizada\n",
        "\n",
        "Por fim, formatamos os dados e exibimos uma previsão do tempo organizada."
      ],
      "metadata": {
        "id": "NaMomwOsJRiM"
      }
    },
    {
      "cell_type": "code",
      "source": [
        "if resposta.status_code == 200:\n",
        "    temperatura = dados[\"main\"][\"temp\"]  # 🌡️ Temperatura em graus Celsius\n",
        "    descricao = dados[\"weather\"][0][\"description\"]  # 🌥️ Descrição do clima (ex: céu limpo, chuva)\n",
        "    umidade = dados[\"main\"][\"humidity\"]  # 💧 Umidade relativa do ar (%)\n",
        "    vento = dados[\"wind\"][\"speed\"]  # 💨 Velocidade do vento em metros por segundo\n",
        "\n",
        "# Exibir os dados da previsão do tempo de forma formatada\n",
        "    print(f\"📍 Previsão do tempo em {cidade}:\")\n",
        "    print(f\"🌡️ Temperatura: {temperatura}°C\")\n",
        "    print(f\"🌥️ Condição: {descricao.capitalize()}\")  # Capitaliza a primeira letra\n",
        "    print(f\"💧 Umidade: {umidade}%\")\n",
        "    print(f\"💨 Velocidade do vento: {vento} m/s\")\n"
      ],
      "metadata": {
        "id": "c-CXSwtAHV_f",
        "colab": {
          "base_uri": "https://localhost:8080/"
        },
        "outputId": "d6a77f9a-588e-431c-ae46-ae3afb8050e6"
      },
      "execution_count": 6,
      "outputs": [
        {
          "output_type": "stream",
          "name": "stdout",
          "text": [
            "📍 Previsão do tempo em Brasília:\n",
            "🌡️ Temperatura: 26.72°C\n",
            "🌥️ Condição: Chuva leve\n",
            "💧 Umidade: 64%\n",
            "💨 Velocidade do vento: 3.6 m/s\n"
          ]
        }
      ]
    }
  ]
}
